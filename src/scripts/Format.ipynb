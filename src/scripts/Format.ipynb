{
 "cells": [
  {
   "cell_type": "code",
   "execution_count": 4,
   "id": "35a8908e",
   "metadata": {},
   "outputs": [
    {
     "name": "stdout",
     "output_type": "stream",
     "text": [
      "Exported: /Users/albertorodriguez/desktop/safa/datasets/openai/cm1/formatted/train.jsonl (67)\n",
      "Exported: /Users/albertorodriguez/desktop/safa/datasets/openai/cm1/formatted/test.jsonl (23)\n"
     ]
    }
   ],
   "source": [
    "import pandas as pd\n",
    "import os\n",
    "\n",
    "cache = {}\n",
    "n_clipped = 0\n",
    "\n",
    "def clip(t, max_words=500):\n",
    "    if t not in cache:\n",
    "        t_words = t.split(\" \")\n",
    "        if len(t_words) > max_words:\n",
    "            n_missing = int((len(t_words) - max_words) / 2)\n",
    "            t_words = t_words[n_missing:n_missing + max_words]\n",
    "            t = \" \".join(t_words)\n",
    "            \n",
    "        cache[t] = t\n",
    "    return cache[t]\n",
    "    \n",
    "def export_as_formatted(df, stage_name, dir_path):\n",
    "    entries = []\n",
    "    queries = []\n",
    "    responses = []\n",
    "    \n",
    "    for i, row in df.iterrows():\n",
    "        row_query = query_format.format(clip(row[\"source\"]), clip(row[\"target\"]), row[\"label\"])\n",
    "        row_response = label_creator(row[\"label\"])\n",
    "        entries.append({\n",
    "            \"prompt\": row_query,\n",
    "            \"completion\": row_response\n",
    "        })\n",
    "\n",
    "    openai_df = pd.DataFrame(entries)\n",
    "    export_path = os.path.join(dir_path, f\"{stage_name}.jsonl\")\n",
    "    openai_df.to_json(export_path,orient='records', lines=True)\n",
    "    print(f\"Exported: {export_path} ({len(openai_df)})\")\n",
    "    return openai_df\n",
    "\n",
    "data_path = os.path.expanduser(\"~/desktop/safa/datasets/openai/cm1\")\n",
    "export_dir = os.path.join(data_path, \"formatted\")\n",
    "\n",
    "stages = [\"train\", \"test\"]\n",
    "for stage in stages:\n",
    "    df_path = os.path.join(data_path, f\"{stage}.csv\")\n",
    "    df = pd.read_csv(df_path).sample(frac=1)\n",
    "\n",
    "    query_format = \"1. {}\\n2. {}\\n\\n###\\n\\n\"\n",
    "    label_creator = lambda l: \" yes###\" if l == 1 else \" no###\"\n",
    "\n",
    "    result_df = export_as_formatted(df, stage, export_dir)"
   ]
  },
  {
   "cell_type": "code",
   "execution_count": 2,
   "id": "2dd4a336",
   "metadata": {},
   "outputs": [
    {
     "data": {
      "text/plain": [
       "7217"
      ]
     },
     "execution_count": 2,
     "metadata": {},
     "output_type": "execute_result"
    }
   ],
   "source": [
    "result_df[\"prompt\"].map(lambda p: len(p)).max()"
   ]
  },
  {
   "cell_type": "code",
   "execution_count": null,
   "id": "baf3f41f",
   "metadata": {},
   "outputs": [],
   "source": []
  }
 ],
 "metadata": {
  "kernelspec": {
   "display_name": "Python 3 (ipykernel)",
   "language": "python",
   "name": "python3"
  },
  "language_info": {
   "codemirror_mode": {
    "name": "ipython",
    "version": 3
   },
   "file_extension": ".py",
   "mimetype": "text/x-python",
   "name": "python",
   "nbconvert_exporter": "python",
   "pygments_lexer": "ipython3",
   "version": "3.9.13"
  }
 },
 "nbformat": 4,
 "nbformat_minor": 5
}
