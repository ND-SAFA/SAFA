{
 "cells": [
  {
   "cell_type": "code",
   "execution_count": 2,
   "metadata": {},
   "outputs": [],
   "source": [
    "import os\n",
    "import sys"
   ]
  },
  {
   "cell_type": "code",
   "execution_count": 3,
   "metadata": {},
   "outputs": [],
   "source": [
    "sys.path.append(\"../\")"
   ]
  },
  {
   "cell_type": "code",
   "execution_count": 23,
   "metadata": {},
   "outputs": [],
   "source": [
    "from data.creators.trace_dataset_creator import TraceDatasetCreator\n",
    "from data.creators.multi_trace_dataset_creator import MultiTraceDatasetCreator\n",
    "from data.datasets.trace_dataset import TraceDataset\n",
    "from data.readers.hub_project_reader import HubProjectReader\n",
    "\n",
    "from sklearn.metrics import pairwise_distances\n",
    "from sklearn.feature_extraction.text import CountVectorizer, TfidfVectorizer\n",
    "from util.logging.logger_manager import LoggerManager, logger\n",
    "from util.logging.logger_config import LoggerConfig\n",
    "from sklearn.model_selection import train_test_split\n",
    "\n",
    "import pandas as pd"
   ]
  },
  {
   "cell_type": "code",
   "execution_count": 5,
   "metadata": {},
   "outputs": [
    {
     "data": {
      "text/plain": [
       "<TGenLogger tgen (INFO)>"
      ]
     },
     "execution_count": 5,
     "metadata": {},
     "output_type": "execute_result"
    }
   ],
   "source": [
    "log_path = os.path.expanduser(\"~/desktop/safa/logs\")\n",
    "LoggerManager.configure_logger(LoggerConfig(output_dir=log_path))"
   ]
  },
  {
   "cell_type": "markdown",
   "metadata": {},
   "source": [
    "# Read Project"
   ]
  },
  {
   "cell_type": "code",
   "execution_count": 6,
   "metadata": {},
   "outputs": [
    {
     "name": "stdout",
     "output_type": "stream",
     "text": [
      "Downloading dataset from hub: https://safa-datasets-open.s3.amazonaws.com/datasets/open-source/drone.zip\n",
      "/Users/albertorodriguez/desktop/safa/datasets/HuggingFace/extracted/30e2f908ec8ca05678e1daf3aab6d65f5b26e4424fc3af099482cba26f2fcdc6/drone_tasks/base/Code.csv:458\n",
      "/Users/albertorodriguez/desktop/safa/datasets/HuggingFace/extracted/30e2f908ec8ca05678e1daf3aab6d65f5b26e4424fc3af099482cba26f2fcdc6/drone_tasks/base/Design Definitions.csv:99\n",
      "/Users/albertorodriguez/desktop/safa/datasets/HuggingFace/extracted/30e2f908ec8ca05678e1daf3aab6d65f5b26e4424fc3af099482cba26f2fcdc6/drone_tasks/base/Requirements.csv:55\n",
      "/Users/albertorodriguez/desktop/safa/datasets/HuggingFace/extracted/30e2f908ec8ca05678e1daf3aab6d65f5b26e4424fc3af099482cba26f2fcdc6/drone_tasks/base/Requirements2Design Definitions.csv:58\n",
      "/Users/albertorodriguez/desktop/safa/datasets/HuggingFace/extracted/30e2f908ec8ca05678e1daf3aab6d65f5b26e4424fc3af099482cba26f2fcdc6/drone_tasks/base/Design Definitions2Code.csv:222\n",
      "Artifacts: 612 Traces: 280 Queries: 2\n",
      "No missing source artifacts. (0)\n",
      "No missing target artifacts. (0)\n"
     ]
    },
    {
     "name": "stderr",
     "output_type": "stream",
     "text": [
      "Cleaning artifacts...: 100%|█████████████| 612/612 [00:00<00:00, 2273617.40it/s]\n",
      "Generating negative links between Requirements -> Design Definitions: 100%|█| 55\n",
      "Generating negative links between Design Definitions -> Code: 100%|█| 99/99 [00:\n"
     ]
    },
    {
     "name": "stdout",
     "output_type": "stream",
     "text": [
      "[Code: 458],[Design Definitions: 99],[Requirements: 55]\n",
      "Trace dataset(+280, -(50507) = 50787)\n",
      "50787\n"
     ]
    }
   ],
   "source": [
    "project_reader = HubProjectReader(\"drone\")\n",
    "dataset_creator = TraceDatasetCreator(project_reader)\n",
    "dataset = dataset_creator.create()\n",
    "trace_df = dataset.to_dataframe()\n",
    "print(len(trace_df))"
   ]
  },
  {
   "cell_type": "code",
   "execution_count": 14,
   "metadata": {},
   "outputs": [
    {
     "name": "stdout",
     "output_type": "stream",
     "text": [
      "Downloading dataset from hub: https://safa-datasets-open.s3.amazonaws.com/datasets/open-source/drone.zip\n",
      "/Users/albertorodriguez/desktop/safa/datasets/HuggingFace/extracted/30e2f908ec8ca05678e1daf3aab6d65f5b26e4424fc3af099482cba26f2fcdc6/drone_tasks/base/Code.csv:458\n",
      "/Users/albertorodriguez/desktop/safa/datasets/HuggingFace/extracted/30e2f908ec8ca05678e1daf3aab6d65f5b26e4424fc3af099482cba26f2fcdc6/drone_tasks/base/Design Definitions.csv:99\n",
      "/Users/albertorodriguez/desktop/safa/datasets/HuggingFace/extracted/30e2f908ec8ca05678e1daf3aab6d65f5b26e4424fc3af099482cba26f2fcdc6/drone_tasks/base/Requirements.csv:55\n",
      "/Users/albertorodriguez/desktop/safa/datasets/HuggingFace/extracted/30e2f908ec8ca05678e1daf3aab6d65f5b26e4424fc3af099482cba26f2fcdc6/drone_tasks/base/Requirements2Design Definitions.csv:58\n",
      "/Users/albertorodriguez/desktop/safa/datasets/HuggingFace/extracted/30e2f908ec8ca05678e1daf3aab6d65f5b26e4424fc3af099482cba26f2fcdc6/drone_tasks/base/Design Definitions2Code.csv:222\n",
      "Artifacts: 612 Traces: 280 Queries: 2\n"
     ]
    }
   ],
   "source": [
    "_, trace_df, _ = project_reader.read_project()"
   ]
  },
  {
   "cell_type": "code",
   "execution_count": 7,
   "metadata": {},
   "outputs": [],
   "source": [
    "def to_csv_dataset(dataset, trace_df):\n",
    "    sources = []\n",
    "    targets = []\n",
    "    for _, row in trace_df.iterrows():\n",
    "        source_body = dataset.artifact_df.loc[row[\"source\"]][\"content\"]\n",
    "        target_body = dataset.artifact_df.loc[row[\"target\"]][\"content\"]\n",
    "        \n",
    "        sources.append(source_body)\n",
    "        targets.append(target_body)\n",
    "    df = pd.DataFrame()\n",
    "    df[\"source_id\"] = trace_df[\"source\"]\n",
    "    df[\"target_id\"] = trace_df[\"target\"]\n",
    "    df[\"source\"] = sources\n",
    "    df[\"target\"] = targets\n",
    "    df[\"label\"] = trace_df[\"label\"]\n",
    "    return df"
   ]
  },
  {
   "cell_type": "code",
   "execution_count": 11,
   "metadata": {},
   "outputs": [
    {
     "data": {
      "text/html": [
       "<div>\n",
       "<style scoped>\n",
       "    .dataframe tbody tr th:only-of-type {\n",
       "        vertical-align: middle;\n",
       "    }\n",
       "\n",
       "    .dataframe tbody tr th {\n",
       "        vertical-align: top;\n",
       "    }\n",
       "\n",
       "    .dataframe thead th {\n",
       "        text-align: right;\n",
       "    }\n",
       "</style>\n",
       "<table border=\"1\" class=\"dataframe\">\n",
       "  <thead>\n",
       "    <tr style=\"text-align: right;\">\n",
       "      <th></th>\n",
       "      <th>source_id</th>\n",
       "      <th>target_id</th>\n",
       "      <th>source</th>\n",
       "      <th>target</th>\n",
       "      <th>label</th>\n",
       "    </tr>\n",
       "    <tr>\n",
       "      <th>link_id</th>\n",
       "      <th></th>\n",
       "      <th></th>\n",
       "      <th></th>\n",
       "      <th></th>\n",
       "      <th></th>\n",
       "    </tr>\n",
       "  </thead>\n",
       "  <tbody>\n",
       "    <tr>\n",
       "      <th>-7852514118434646260</th>\n",
       "      <td>RE-8</td>\n",
       "      <td>DD-26</td>\n",
       "      <td>UAV State transitions When requested the _Vehi...</td>\n",
       "      <td>Activation state is ON_GROUND When a UAV is in...</td>\n",
       "      <td>1</td>\n",
       "    </tr>\n",
       "    <tr>\n",
       "      <th>-3696236521568399644</th>\n",
       "      <td>RE-8</td>\n",
       "      <td>DD-30</td>\n",
       "      <td>UAV State transitions When requested the _Vehi...</td>\n",
       "      <td>Transition from ON_GROUND to AWAITING_TAKEOFF_...</td>\n",
       "      <td>1</td>\n",
       "    </tr>\n",
       "    <tr>\n",
       "      <th>-2714593483190114934</th>\n",
       "      <td>RE-8</td>\n",
       "      <td>DD-32</td>\n",
       "      <td>UAV State transitions When requested the _Vehi...</td>\n",
       "      <td>Transition from TAKING_OFF to FLYING When a UA...</td>\n",
       "      <td>1</td>\n",
       "    </tr>\n",
       "    <tr>\n",
       "      <th>-3965084921625618917</th>\n",
       "      <td>RE-8</td>\n",
       "      <td>DD-579</td>\n",
       "      <td>UAV State transitions When requested the _Vehi...</td>\n",
       "      <td>Transition from IN_AIR to LANDING When a UAV i...</td>\n",
       "      <td>1</td>\n",
       "    </tr>\n",
       "    <tr>\n",
       "      <th>5991805353892408792</th>\n",
       "      <td>RE-9</td>\n",
       "      <td>DD-11</td>\n",
       "      <td>ListenerNotifications If a client registers fo...</td>\n",
       "      <td>Client registers for flight route events A cli...</td>\n",
       "      <td>1</td>\n",
       "    </tr>\n",
       "  </tbody>\n",
       "</table>\n",
       "</div>"
      ],
      "text/plain": [
       "                     source_id target_id  \\\n",
       "link_id                                    \n",
       "-7852514118434646260      RE-8     DD-26   \n",
       "-3696236521568399644      RE-8     DD-30   \n",
       "-2714593483190114934      RE-8     DD-32   \n",
       "-3965084921625618917      RE-8    DD-579   \n",
       " 5991805353892408792      RE-9     DD-11   \n",
       "\n",
       "                                                                 source  \\\n",
       "link_id                                                                   \n",
       "-7852514118434646260  UAV State transitions When requested the _Vehi...   \n",
       "-3696236521568399644  UAV State transitions When requested the _Vehi...   \n",
       "-2714593483190114934  UAV State transitions When requested the _Vehi...   \n",
       "-3965084921625618917  UAV State transitions When requested the _Vehi...   \n",
       " 5991805353892408792  ListenerNotifications If a client registers fo...   \n",
       "\n",
       "                                                                 target  label  \n",
       "link_id                                                                         \n",
       "-7852514118434646260  Activation state is ON_GROUND When a UAV is in...      1  \n",
       "-3696236521568399644  Transition from ON_GROUND to AWAITING_TAKEOFF_...      1  \n",
       "-2714593483190114934  Transition from TAKING_OFF to FLYING When a UA...      1  \n",
       "-3965084921625618917  Transition from IN_AIR to LANDING When a UAV i...      1  \n",
       " 5991805353892408792  Client registers for flight route events A cli...      1  "
      ]
     },
     "execution_count": 11,
     "metadata": {},
     "output_type": "execute_result"
    }
   ],
   "source": [
    "drone_df = to_csv_dataset(dataset, dataset.trace_df)\n",
    "drone_df.head()"
   ]
  },
  {
   "cell_type": "code",
   "execution_count": 29,
   "metadata": {},
   "outputs": [
    {
     "name": "stdout",
     "output_type": "stream",
     "text": [
      "Train: 20\n",
      "Train: 50767\n"
     ]
    }
   ],
   "source": [
    "pos_df = drone_df[drone_df[\"label\"] == 1]\n",
    "neg_df = drone_df[drone_df[\"label\"] == 0]\n",
    "\n",
    "train_pos_df, test_pos_df = train_test_split(pos_df, train_size=10)\n",
    "train_neg_df, test_neg_df = train_test_split(neg_df, train_size=10)\n",
    "train_df = pd.concat([train_pos_df, train_neg_df])\n",
    "test_df = pd.concat([test_pos_df, test_neg_df])\n",
    "print(f\"Train: {len(train_df)}\")\n",
    "print(f\"Train: {len(test_df)}\")"
   ]
  },
  {
   "cell_type": "code",
   "execution_count": 30,
   "metadata": {},
   "outputs": [],
   "source": [
    "export_dir_path = os.path.expanduser(\"~/desktop/safa/datasets/openai\")\n",
    "drone_dir_path = os.path.join(export_dir_path, \"drone\")\n",
    "os.makedirs(drone_dir_path, exist_ok=True)\n",
    "drone_df.to_csv(os.path.join(drone_dir_path, \"drone.csv\"), index=False)\n",
    "train_df.to_csv(os.path.join(drone_dir_path, \"train.csv\"), index=False)\n",
    "test_df.to_csv(os.path.join(drone_dir_path, \"test.csv\"), index=False)"
   ]
  },
  {
   "cell_type": "code",
   "execution_count": null,
   "metadata": {},
   "outputs": [],
   "source": []
  }
 ],
 "metadata": {
  "kernelspec": {
   "display_name": "Python 3 (ipykernel)",
   "language": "python",
   "name": "python3"
  },
  "language_info": {
   "codemirror_mode": {
    "name": "ipython",
    "version": 3
   },
   "file_extension": ".py",
   "mimetype": "text/x-python",
   "name": "python",
   "nbconvert_exporter": "python",
   "pygments_lexer": "ipython3",
   "version": "3.9.13"
  }
 },
 "nbformat": 4,
 "nbformat_minor": 1
}
