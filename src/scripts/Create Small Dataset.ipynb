{
 "cells": [
  {
   "cell_type": "code",
   "execution_count": 1,
   "metadata": {},
   "outputs": [],
   "source": [
    "import os\n",
    "import sys"
   ]
  },
  {
   "cell_type": "code",
   "execution_count": 2,
   "metadata": {},
   "outputs": [],
   "source": [
    "sys.path.append(\"../\")"
   ]
  },
  {
   "cell_type": "code",
   "execution_count": 3,
   "metadata": {},
   "outputs": [],
   "source": [
    "from data.creators.trace_dataset_creator import TraceDatasetCreator\n",
    "from data.creators.multi_trace_dataset_creator import MultiTraceDatasetCreator\n",
    "from data.datasets.trace_dataset import TraceDataset\n",
    "from data.readers.hub_project_reader import HubProjectReader\n",
    "\n",
    "from sklearn.metrics import pairwise_distances\n",
    "from sklearn.feature_extraction.text import CountVectorizer, TfidfVectorizer\n",
    "from util.logging.logger_manager import LoggerManager, logger\n",
    "from util.logging.logger_config import LoggerConfig\n",
    "\n",
    "import pandas as pd"
   ]
  },
  {
   "cell_type": "code",
   "execution_count": 4,
   "metadata": {},
   "outputs": [
    {
     "data": {
      "text/plain": [
       "<TGenLogger tgen (INFO)>"
      ]
     },
     "execution_count": 4,
     "metadata": {},
     "output_type": "execute_result"
    }
   ],
   "source": [
    "log_path = os.path.expanduser(\"~/desktop/safa/logs\")\n",
    "LoggerManager.configure_logger(LoggerConfig(output_dir=log_path))"
   ]
  },
  {
   "cell_type": "code",
   "execution_count": 5,
   "metadata": {},
   "outputs": [],
   "source": [
    "def calculate_similarity_matrix_from_term_frequencies(tf_source, tf_target):\n",
    "    \"\"\"\n",
    "    Calculates the similarity matrix used for predicting traces from the term frequencies of the sources and targets\n",
    "    :param tf_source: The term frequencies of the sources\n",
    "    :param tf_target: The term frequencies of the targets\n",
    "    :return: The similarity matrix where each cell contains the similarity of the corresponding source (row) and target (col)\n",
    "    \"\"\"\n",
    "    return 1 - pairwise_distances(tf_source, Y=tf_target, metric=\"cosine\", n_jobs=-1)\n",
    "\n",
    "def create_term_frequency_matrices(model, raw_sources: pd.Series, raw_targets: pd.Series):\n",
    "    \"\"\"\n",
    "    Creates 2 TermFrequencyMatrices (one for A another for B) where the weight of\n",
    "    each (row, col) pair is calculated via TF-IDF\n",
    "    :param raw_sources : The source documents whose matrix is the first element\n",
    "    :param raw_targets : The target documents whose matrix is the second element\n",
    "    :return: CountMatrix for raw_sources and raw_targets, and also the trained model\n",
    "    \"\"\"\n",
    "    set_source: csr_matrix = model.transform(raw_sources)\n",
    "    set_target: csr_matrix = model.transform(raw_targets)\n",
    "    return set_source, set_target"
   ]
  },
  {
   "cell_type": "markdown",
   "metadata": {},
   "source": [
    "# Read Project"
   ]
  },
  {
   "cell_type": "code",
   "execution_count": 8,
   "metadata": {},
   "outputs": [
    {
     "name": "stdout",
     "output_type": "stream",
     "text": [
      "Downloading dataset from hub: https://safa-datasets-open.s3.amazonaws.com/datasets/open-source/cm1.zip\n",
      "/Users/albertorodriguez/desktop/safa/datasets/HuggingFace/extracted/4719a95a7911878e5dd403ca7f5b5600d50ea6eb74744ceb527265f0637985ad/CM1/CM1-sourceArtifacts.xml:22\n",
      "/Users/albertorodriguez/desktop/safa/datasets/HuggingFace/extracted/4719a95a7911878e5dd403ca7f5b5600d50ea6eb74744ceb527265f0637985ad/CM1/CM1-targetArtifacts.xml:53\n",
      "/Users/albertorodriguez/desktop/safa/datasets/HuggingFace/extracted/4719a95a7911878e5dd403ca7f5b5600d50ea6eb74744ceb527265f0637985ad/CM1/CM1-answerSet.xml:45\n",
      "Artifacts: 75 Traces: 45 Queries: 1\n",
      "Number of orphan artifacts (26)\n",
      "No missing source artifacts. (0)\n",
      "No missing target artifacts. (0)\n"
     ]
    },
    {
     "name": "stderr",
     "output_type": "stream",
     "text": [
      "Cleaning artifacts...: 100%|████████████████| 75/75 [00:00<00:00, 998643.81it/s]\n",
      "Generating negative links between High Level Requirements -> Low Level Requireme"
     ]
    },
    {
     "name": "stdout",
     "output_type": "stream",
     "text": [
      "[High Level Requirements: 22],[Low Level Requirements: 53]\n"
     ]
    },
    {
     "name": "stderr",
     "output_type": "stream",
     "text": [
      "\n"
     ]
    },
    {
     "name": "stdout",
     "output_type": "stream",
     "text": [
      "Trace dataset(+45, -(1121) = 1166)\n",
      "1166\n"
     ]
    }
   ],
   "source": [
    "project_reader = HubProjectReader(\"cm1\")\n",
    "dataset_creator = TraceDatasetCreator(project_reader)\n",
    "dataset = dataset_creator.create()\n",
    "trace_df = dataset.to_dataframe()\n",
    "print(len(trace_df))"
   ]
  },
  {
   "cell_type": "markdown",
   "metadata": {},
   "source": [
    "# Generate Scores"
   ]
  },
  {
   "cell_type": "code",
   "execution_count": 9,
   "metadata": {},
   "outputs": [
    {
     "data": {
      "text/plain": [
       "TfidfVectorizer()"
      ]
     },
     "execution_count": 9,
     "metadata": {},
     "output_type": "execute_result"
    }
   ],
   "source": [
    "model = TfidfVectorizer()\n",
    "sources = list(set(trace_df[\"source\"]))\n",
    "targets = list(set(trace_df[\"target\"]))\n",
    "artifacts = sources + targets\n",
    "model.fit(artifacts)"
   ]
  },
  {
   "cell_type": "code",
   "execution_count": 10,
   "metadata": {},
   "outputs": [],
   "source": [
    "def get_hardness_label(hardness):\n",
    "    if hardness < 0.3:\n",
    "        return \"easy\"\n",
    "    if hardness < 0.66:\n",
    "        return \"medium\"\n",
    "    else:\n",
    "        return \"hard\""
   ]
  },
  {
   "cell_type": "code",
   "execution_count": 11,
   "metadata": {},
   "outputs": [],
   "source": [
    "scores = []\n",
    "hardnesses = []\n",
    "hardness_labels = []\n",
    "for i, row in trace_df.iterrows():\n",
    "    source = row[\"source\"]\n",
    "    target = row[\"target\"]\n",
    "    label = row[\"label\"]\n",
    "    \n",
    "    s_matrix, t_matrix = create_term_frequency_matrices(model, [source], [target])\n",
    "    sim_matrix = calculate_similarity_matrix_from_term_frequencies(s_matrix, t_matrix)\n",
    "    sim_score = sim_matrix[0][0]\n",
    "    hardness = abs(label - sim_score)\n",
    "    hardness_label = get_hardness_label(hardness)\n",
    "    \n",
    "    scores.append(sim_score)\n",
    "    hardnesses.append(hardness)\n",
    "    hardness_labels.append(hardness_label)\n",
    "trace_df[\"similarity\"] = scores\n",
    "trace_df[\"hardness\"] = hardnesses\n",
    "trace_df[\"hardness_label\"] = hardness_labels"
   ]
  },
  {
   "cell_type": "code",
   "execution_count": 12,
   "metadata": {},
   "outputs": [
    {
     "name": "stdout",
     "output_type": "stream",
     "text": [
      "1166\n",
      "easy      1120\n",
      "hard        41\n",
      "medium       5\n",
      "Name: hardness_label, dtype: int64\n"
     ]
    },
    {
     "data": {
      "text/html": [
       "<div>\n",
       "<style scoped>\n",
       "    .dataframe tbody tr th:only-of-type {\n",
       "        vertical-align: middle;\n",
       "    }\n",
       "\n",
       "    .dataframe tbody tr th {\n",
       "        vertical-align: top;\n",
       "    }\n",
       "\n",
       "    .dataframe thead th {\n",
       "        text-align: right;\n",
       "    }\n",
       "</style>\n",
       "<table border=\"1\" class=\"dataframe\">\n",
       "  <thead>\n",
       "    <tr style=\"text-align: right;\">\n",
       "      <th></th>\n",
       "      <th>source_id</th>\n",
       "      <th>source</th>\n",
       "      <th>target_id</th>\n",
       "      <th>target</th>\n",
       "      <th>label</th>\n",
       "      <th>similarity</th>\n",
       "      <th>hardness</th>\n",
       "      <th>hardness_label</th>\n",
       "    </tr>\n",
       "  </thead>\n",
       "  <tbody>\n",
       "    <tr>\n",
       "      <th>0</th>\n",
       "      <td>SRS5.12.3.2</td>\n",
       "      <td>The DPU-CCM shall provide a mechanism for othe...</td>\n",
       "      <td>DPUSDS5.12.1.5.1</td>\n",
       "      <td>Error Collection and Reporting The DPU-CCM CSC...</td>\n",
       "      <td>1</td>\n",
       "      <td>0.206480</td>\n",
       "      <td>0.793520</td>\n",
       "      <td>hard</td>\n",
       "    </tr>\n",
       "    <tr>\n",
       "      <th>1</th>\n",
       "      <td>SRS5.12.2.1</td>\n",
       "      <td>The DPU-CCM shall implement a mechanism whereb...</td>\n",
       "      <td>DPUSDS5.12.1.4.3</td>\n",
       "      <td>Memory Upload and Download Handling If more th...</td>\n",
       "      <td>1</td>\n",
       "      <td>0.105381</td>\n",
       "      <td>0.894619</td>\n",
       "      <td>hard</td>\n",
       "    </tr>\n",
       "    <tr>\n",
       "      <th>2</th>\n",
       "      <td>SRS5.12.3.2</td>\n",
       "      <td>The DPU-CCM shall provide a mechanism for othe...</td>\n",
       "      <td>DPUSDS5.12.2.2</td>\n",
       "      <td>Public Functions This routine is called by any...</td>\n",
       "      <td>1</td>\n",
       "      <td>0.082703</td>\n",
       "      <td>0.917297</td>\n",
       "      <td>hard</td>\n",
       "    </tr>\n",
       "    <tr>\n",
       "      <th>3</th>\n",
       "      <td>SRS5.13.1.3</td>\n",
       "      <td>The DPU-TMALI shall provide a function which s...</td>\n",
       "      <td>DPUSDS5.13.0.2</td>\n",
       "      <td>Telescope Module Access Library and Interface ...</td>\n",
       "      <td>1</td>\n",
       "      <td>0.220246</td>\n",
       "      <td>0.779754</td>\n",
       "      <td>hard</td>\n",
       "    </tr>\n",
       "    <tr>\n",
       "      <th>4</th>\n",
       "      <td>SRS5.12.2.1</td>\n",
       "      <td>The DPU-CCM shall implement a mechanism whereb...</td>\n",
       "      <td>DPUSDS5.12.1.2.4</td>\n",
       "      <td>Control and Monitoring the CCM Control Task al...</td>\n",
       "      <td>1</td>\n",
       "      <td>0.104114</td>\n",
       "      <td>0.895886</td>\n",
       "      <td>hard</td>\n",
       "    </tr>\n",
       "  </tbody>\n",
       "</table>\n",
       "</div>"
      ],
      "text/plain": [
       "     source_id                                             source  \\\n",
       "0  SRS5.12.3.2  The DPU-CCM shall provide a mechanism for othe...   \n",
       "1  SRS5.12.2.1  The DPU-CCM shall implement a mechanism whereb...   \n",
       "2  SRS5.12.3.2  The DPU-CCM shall provide a mechanism for othe...   \n",
       "3  SRS5.13.1.3  The DPU-TMALI shall provide a function which s...   \n",
       "4  SRS5.12.2.1  The DPU-CCM shall implement a mechanism whereb...   \n",
       "\n",
       "          target_id                                             target  label  \\\n",
       "0  DPUSDS5.12.1.5.1  Error Collection and Reporting The DPU-CCM CSC...      1   \n",
       "1  DPUSDS5.12.1.4.3  Memory Upload and Download Handling If more th...      1   \n",
       "2    DPUSDS5.12.2.2  Public Functions This routine is called by any...      1   \n",
       "3    DPUSDS5.13.0.2  Telescope Module Access Library and Interface ...      1   \n",
       "4  DPUSDS5.12.1.2.4  Control and Monitoring the CCM Control Task al...      1   \n",
       "\n",
       "   similarity  hardness hardness_label  \n",
       "0    0.206480  0.793520           hard  \n",
       "1    0.105381  0.894619           hard  \n",
       "2    0.082703  0.917297           hard  \n",
       "3    0.220246  0.779754           hard  \n",
       "4    0.104114  0.895886           hard  "
      ]
     },
     "execution_count": 12,
     "metadata": {},
     "output_type": "execute_result"
    }
   ],
   "source": [
    "print(len(trace_df))\n",
    "print(trace_df[\"hardness_label\"].value_counts())\n",
    "trace_df.head()"
   ]
  },
  {
   "cell_type": "markdown",
   "metadata": {},
   "source": [
    "# Selection"
   ]
  },
  {
   "cell_type": "code",
   "execution_count": 13,
   "metadata": {},
   "outputs": [],
   "source": [
    "n_top = 20\n",
    "hardness_lower = 0\n",
    "hardness_upper = 0.9\n",
    "strat = \"sample\"\n",
    "\n",
    "selection_strats = {\n",
    "    \"top\": lambda df: df[:n_top],\n",
    "    \"sample\": lambda df: df.sample(n=n_top)\n",
    "}"
   ]
  },
  {
   "cell_type": "code",
   "execution_count": 14,
   "metadata": {},
   "outputs": [
    {
     "name": "stdout",
     "output_type": "stream",
     "text": [
      "Selected: 40\n"
     ]
    },
    {
     "data": {
      "text/html": [
       "<div>\n",
       "<style scoped>\n",
       "    .dataframe tbody tr th:only-of-type {\n",
       "        vertical-align: middle;\n",
       "    }\n",
       "\n",
       "    .dataframe tbody tr th {\n",
       "        vertical-align: top;\n",
       "    }\n",
       "\n",
       "    .dataframe thead th {\n",
       "        text-align: right;\n",
       "    }\n",
       "</style>\n",
       "<table border=\"1\" class=\"dataframe\">\n",
       "  <thead>\n",
       "    <tr style=\"text-align: right;\">\n",
       "      <th></th>\n",
       "      <th>source_id</th>\n",
       "      <th>source</th>\n",
       "      <th>target_id</th>\n",
       "      <th>target</th>\n",
       "      <th>label</th>\n",
       "      <th>similarity</th>\n",
       "      <th>hardness</th>\n",
       "      <th>hardness_label</th>\n",
       "    </tr>\n",
       "  </thead>\n",
       "  <tbody>\n",
       "    <tr>\n",
       "      <th>31</th>\n",
       "      <td>SRS5.12.2.1</td>\n",
       "      <td>The DPU-CCM shall implement a mechanism whereb...</td>\n",
       "      <td>DPUSDS5.12.1.4.1</td>\n",
       "      <td>Memory Upload and Download Handling There are ...</td>\n",
       "      <td>1</td>\n",
       "      <td>0.141467</td>\n",
       "      <td>0.858533</td>\n",
       "      <td>hard</td>\n",
       "    </tr>\n",
       "    <tr>\n",
       "      <th>21</th>\n",
       "      <td>SRS5.12.2.1</td>\n",
       "      <td>The DPU-CCM shall implement a mechanism whereb...</td>\n",
       "      <td>DPUSDS5.12.1.4.4</td>\n",
       "      <td>Memory Upload and Download Handling Data can b...</td>\n",
       "      <td>1</td>\n",
       "      <td>0.092119</td>\n",
       "      <td>0.907881</td>\n",
       "      <td>hard</td>\n",
       "    </tr>\n",
       "    <tr>\n",
       "      <th>8</th>\n",
       "      <td>SRS5.13.2.3</td>\n",
       "      <td>The DPU-TMALI shall configure the DCI interfac...</td>\n",
       "      <td>DPUSDS5.13.1.6.4</td>\n",
       "      <td>Setting Data Timeout in DCI During nominal ope...</td>\n",
       "      <td>1</td>\n",
       "      <td>0.190820</td>\n",
       "      <td>0.809180</td>\n",
       "      <td>hard</td>\n",
       "    </tr>\n",
       "    <tr>\n",
       "      <th>3</th>\n",
       "      <td>SRS5.13.1.3</td>\n",
       "      <td>The DPU-TMALI shall provide a function which s...</td>\n",
       "      <td>DPUSDS5.13.0.2</td>\n",
       "      <td>Telescope Module Access Library and Interface ...</td>\n",
       "      <td>1</td>\n",
       "      <td>0.220246</td>\n",
       "      <td>0.779754</td>\n",
       "      <td>hard</td>\n",
       "    </tr>\n",
       "    <tr>\n",
       "      <th>37</th>\n",
       "      <td>SRS5.12.2.1</td>\n",
       "      <td>The DPU-CCM shall implement a mechanism whereb...</td>\n",
       "      <td>DPUSDS5.12.1.4.5</td>\n",
       "      <td>Memory Upload and Download Handling The comman...</td>\n",
       "      <td>1</td>\n",
       "      <td>0.061458</td>\n",
       "      <td>0.938542</td>\n",
       "      <td>hard</td>\n",
       "    </tr>\n",
       "  </tbody>\n",
       "</table>\n",
       "</div>"
      ],
      "text/plain": [
       "      source_id                                             source  \\\n",
       "31  SRS5.12.2.1  The DPU-CCM shall implement a mechanism whereb...   \n",
       "21  SRS5.12.2.1  The DPU-CCM shall implement a mechanism whereb...   \n",
       "8   SRS5.13.2.3  The DPU-TMALI shall configure the DCI interfac...   \n",
       "3   SRS5.13.1.3  The DPU-TMALI shall provide a function which s...   \n",
       "37  SRS5.12.2.1  The DPU-CCM shall implement a mechanism whereb...   \n",
       "\n",
       "           target_id                                             target  \\\n",
       "31  DPUSDS5.12.1.4.1  Memory Upload and Download Handling There are ...   \n",
       "21  DPUSDS5.12.1.4.4  Memory Upload and Download Handling Data can b...   \n",
       "8   DPUSDS5.13.1.6.4  Setting Data Timeout in DCI During nominal ope...   \n",
       "3     DPUSDS5.13.0.2  Telescope Module Access Library and Interface ...   \n",
       "37  DPUSDS5.12.1.4.5  Memory Upload and Download Handling The comman...   \n",
       "\n",
       "    label  similarity  hardness hardness_label  \n",
       "31      1    0.141467  0.858533           hard  \n",
       "21      1    0.092119  0.907881           hard  \n",
       "8       1    0.190820  0.809180           hard  \n",
       "3       1    0.220246  0.779754           hard  \n",
       "37      1    0.061458  0.938542           hard  "
      ]
     },
     "execution_count": 14,
     "metadata": {},
     "output_type": "execute_result"
    }
   ],
   "source": [
    "def select_from(df):\n",
    "    pos_df = df[df[\"label\"] == 1]\n",
    "    neg_df = df[df[\"label\"] == 0]\n",
    "\n",
    "    selection_strat = selection_strats[strat]\n",
    "    selected_df = pd.concat([selection_strat(pos_df), selection_strat(neg_df)])\n",
    "    return selected_df\n",
    "\n",
    "selected_df = select_from(trace_df)\n",
    "\n",
    "unselected_indices = set(range(len(trace_df))) - set(selected_df.index)\n",
    "unselected_df = trace_df.iloc[list(unselected_indices)]\n",
    "\n",
    "print(f\"Selected: {len(selected_df)}\")\n",
    "selected_df.head()"
   ]
  },
  {
   "cell_type": "markdown",
   "metadata": {},
   "source": [
    "# Splitting: Train / Val"
   ]
  },
  {
   "cell_type": "code",
   "execution_count": 15,
   "metadata": {},
   "outputs": [],
   "source": [
    "from sklearn.model_selection import train_test_split\n",
    "train_df, val_df = train_test_split(selected_df, test_size=0.5, stratify=selected_df[\"label\"])"
   ]
  },
  {
   "cell_type": "markdown",
   "metadata": {},
   "source": [
    "# Formatting"
   ]
  },
  {
   "cell_type": "code",
   "execution_count": 17,
   "metadata": {},
   "outputs": [
    {
     "name": "stdout",
     "output_type": "stream",
     "text": [
      "Exported: /Users/albertorodriguez/desktop/safa/datasets/openai/cm1/train.jsonl (20)\n",
      "Exported: /Users/albertorodriguez/desktop/safa/datasets/openai/cm1/val.jsonl (20)\n",
      "Exported: /Users/albertorodriguez/desktop/safa/datasets/openai/cm1/test.jsonl (1126)\n"
     ]
    }
   ],
   "source": [
    "query_format = \"Are these two artifacts related?\\n1. {}\\n2. {}\\n\\n###\\n\\n\"\n",
    "export_dir = os.path.expanduser(\"~/desktop/safa/datasets/openai/cm1\")\n",
    "\n",
    "def export_as_formatted(df, stage_name, dir_path):\n",
    "    entries = []\n",
    "    queries = []\n",
    "    responses = []\n",
    "\n",
    "    for i, row in df.iterrows():\n",
    "        row_query = query_format.format(row[\"source\"], row[\"target\"], row[\"label\"])\n",
    "        row_response = \" yes\" if row[\"label\"] == 1 else \" no\"\n",
    "        entries.append({\n",
    "            \"prompt\": row_query,\n",
    "            \"completion\": row_response\n",
    "        })\n",
    "\n",
    "    openai_df = pd.DataFrame(entries)\n",
    "    export_path = os.path.join(dir_path, f\"{stage_name}.jsonl\")\n",
    "    openai_df.to_json(export_path,orient='records', lines=True)\n",
    "    print(f\"Exported: {export_path} ({len(openai_df)})\")\n",
    "    \n",
    "export_as_formatted(train_df, \"train\", export_dir)\n",
    "export_as_formatted(val_df, \"val\", export_dir)\n",
    "export_as_formatted(unselected_df, \"test\", export_dir)"
   ]
  }
 ],
 "metadata": {
  "kernelspec": {
   "display_name": "Python 3 (ipykernel)",
   "language": "python",
   "name": "python3"
  },
  "language_info": {
   "codemirror_mode": {
    "name": "ipython",
    "version": 3
   },
   "file_extension": ".py",
   "mimetype": "text/x-python",
   "name": "python",
   "nbconvert_exporter": "python",
   "pygments_lexer": "ipython3",
   "version": "3.9.13"
  }
 },
 "nbformat": 4,
 "nbformat_minor": 1
}
