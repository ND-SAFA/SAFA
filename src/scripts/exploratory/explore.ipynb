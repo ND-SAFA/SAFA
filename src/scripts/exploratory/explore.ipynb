{
 "cells": [
  {
   "cell_type": "code",
   "execution_count": 1,
   "id": "a02363e0",
   "metadata": {},
   "outputs": [],
   "source": [
    "import pandas as pd\n",
    "import sys\n",
    "import os\n",
    "import json\n",
    "SRC_PATH = os.path.expanduser(\"~/projects/safa/tgen/src\")\n",
    "sys.path.append(SRC_PATH)"
   ]
  },
  {
   "cell_type": "code",
   "execution_count": 2,
   "id": "44aaa537",
   "metadata": {},
   "outputs": [],
   "source": [
    "from util.file_util import FileUtil"
   ]
  },
  {
   "cell_type": "code",
   "execution_count": 5,
   "id": "290c75df",
   "metadata": {},
   "outputs": [
    {
     "name": "stdout",
     "output_type": "stream",
     "text": [
      "dict_keys(['predictions', 'label_ids', 'metrics', 'source_target_pairs', 'prediction_entries', 'experimental_vars', 'status'])\n"
     ]
    }
   ],
   "source": [
    "output_json = FileUtil.read_json_file(\"output.json\")\n",
    "print(output_json.keys())"
   ]
  },
  {
   "cell_type": "code",
   "execution_count": 7,
   "id": "73f26179",
   "metadata": {},
   "outputs": [],
   "source": [
    "scores = output_json[\"predictions\"]\n",
    "labels = output_json[\"label_ids\"]\n",
    "source_target_pairs = output_json[\"source_target_pairs\"]"
   ]
  },
  {
   "cell_type": "code",
   "execution_count": 12,
   "id": "6195a5a9",
   "metadata": {},
   "outputs": [
    {
     "data": {
      "text/plain": [
       "[0.49483755230903625,\n",
       " 0.49484652280807495,\n",
       " 0.4948478639125824,\n",
       " 0.49483340978622437,\n",
       " 0.49485525488853455,\n",
       " 0.4948335587978363,\n",
       " 0.49483534693717957,\n",
       " 0.49483343958854675,\n",
       " 0.49483466148376465,\n",
       " 0.49482956528663635,\n",
       " 0.49483177065849304,\n",
       " 0.4948383867740631,\n",
       " 0.49484607577323914,\n",
       " 0.49483466148376465,\n",
       " 0.494830459356308,\n",
       " 0.4948294758796692,\n",
       " 0.4948359727859497,\n",
       " 0.49484145641326904,\n",
       " 0.4948470890522003,\n",
       " 0.4948492646217346,\n",
       " 0.49482953548431396,\n",
       " 0.4948461055755615,\n",
       " 0.4948303997516632,\n",
       " 0.4948313236236572,\n",
       " 0.4948647916316986,\n",
       " 0.4948533773422241,\n",
       " 0.49484121799468994,\n",
       " 0.4948417842388153,\n",
       " 0.4948297441005707,\n",
       " 0.49484366178512573,\n",
       " 0.49485495686531067,\n",
       " 0.49484604597091675,\n",
       " 0.4948388636112213,\n",
       " 0.4948449730873108,\n",
       " 0.4948442280292511,\n",
       " 0.49482977390289307,\n",
       " 0.4948531687259674,\n",
       " 0.4948550760746002,\n",
       " 0.49484992027282715,\n",
       " 0.4948449730873108]"
      ]
     },
     "execution_count": 12,
     "metadata": {},
     "output_type": "execute_result"
    }
   ],
   "source": [
    "scores"
   ]
  },
  {
   "cell_type": "code",
   "execution_count": 10,
   "id": "009392a6",
   "metadata": {},
   "outputs": [
    {
     "data": {
      "text/plain": [
       "[1,\n",
       " 1,\n",
       " 1,\n",
       " 1,\n",
       " 1,\n",
       " 1,\n",
       " 1,\n",
       " 1,\n",
       " 1,\n",
       " 1,\n",
       " 1,\n",
       " 1,\n",
       " 0,\n",
       " 0,\n",
       " 0,\n",
       " 0,\n",
       " 0,\n",
       " 0,\n",
       " 0,\n",
       " 0,\n",
       " 0,\n",
       " 0,\n",
       " 0,\n",
       " 0,\n",
       " 0,\n",
       " 0,\n",
       " 0,\n",
       " 0,\n",
       " 0,\n",
       " 0,\n",
       " 0,\n",
       " 0,\n",
       " 0,\n",
       " 0,\n",
       " 0,\n",
       " 0,\n",
       " 0,\n",
       " 0,\n",
       " 0,\n",
       " 0]"
      ]
     },
     "execution_count": 10,
     "metadata": {},
     "output_type": "execute_result"
    }
   ],
   "source": [
    "labels"
   ]
  },
  {
   "cell_type": "code",
   "execution_count": null,
   "id": "ae4e9acc",
   "metadata": {},
   "outputs": [],
   "source": []
  }
 ],
 "metadata": {
  "kernelspec": {
   "display_name": "Python 3 (ipykernel)",
   "language": "python",
   "name": "python3"
  },
  "language_info": {
   "codemirror_mode": {
    "name": "ipython",
    "version": 3
   },
   "file_extension": ".py",
   "mimetype": "text/x-python",
   "name": "python",
   "nbconvert_exporter": "python",
   "pygments_lexer": "ipython3",
   "version": "3.9.13"
  }
 },
 "nbformat": 4,
 "nbformat_minor": 5
}
