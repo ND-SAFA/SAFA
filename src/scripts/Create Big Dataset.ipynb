{
 "cells": [
  {
   "cell_type": "code",
   "execution_count": 1,
   "metadata": {},
   "outputs": [],
   "source": [
    "import os\n",
    "import sys\n",
    "\n",
    "import pandas as pd\n",
    "\n",
    "from openai.embeddings_utils import cosine_similarity\n",
    "\n",
    "from sklearn.metrics import pairwise_distances\n",
    "from sklearn.feature_extraction.text import CountVectorizer, TfidfVectorizer\n",
    "from sklearn.model_selection import train_test_split"
   ]
  },
  {
   "cell_type": "code",
   "execution_count": 2,
   "metadata": {},
   "outputs": [],
   "source": [
    "sys.path.append(\"../\")"
   ]
  },
  {
   "cell_type": "code",
   "execution_count": 3,
   "metadata": {},
   "outputs": [],
   "source": [
    "from data.creators.trace_dataset_creator import TraceDatasetCreator\n",
    "from data.creators.multi_trace_dataset_creator import MultiTraceDatasetCreator\n",
    "from data.datasets.trace_dataset import TraceDataset\n",
    "from data.readers.hub_project_reader import HubProjectReader\n",
    "\n",
    "from util.logging.logger_manager import LoggerManager, logger\n",
    "from util.logging.logger_config import LoggerConfig"
   ]
  },
  {
   "cell_type": "code",
   "execution_count": 4,
   "metadata": {},
   "outputs": [
    {
     "data": {
      "text/plain": [
       "<TGenLogger tgen (INFO)>"
      ]
     },
     "execution_count": 4,
     "metadata": {},
     "output_type": "execute_result"
    }
   ],
   "source": [
    "log_path = os.path.expanduser(\"~/desktop/safa/logs\")\n",
    "LoggerManager.configure_logger(LoggerConfig(output_dir=log_path))"
   ]
  },
  {
   "cell_type": "markdown",
   "metadata": {},
   "source": [
    "# Read Project"
   ]
  },
  {
   "cell_type": "code",
   "execution_count": 5,
   "metadata": {
    "scrolled": true
   },
   "outputs": [
    {
     "name": "stdout",
     "output_type": "stream",
     "text": [
      "cm1\n",
      "done.\n",
      "mip\n",
      "done.\n",
      "traincontroller\n",
      "done.\n",
      "itrust\n",
      "done.\n",
      "cchit\n",
      "done.\n",
      "drone\n",
      "Downloading dataset from hub: https://safa-datasets-open.s3.amazonaws.com/datasets/open-source/drone.zip\n",
      "/Users/albertorodriguez/desktop/safa/datasets/HuggingFace/extracted/30e2f908ec8ca05678e1daf3aab6d65f5b26e4424fc3af099482cba26f2fcdc6/drone_tasks/base/Code.csv:458\n",
      "/Users/albertorodriguez/desktop/safa/datasets/HuggingFace/extracted/30e2f908ec8ca05678e1daf3aab6d65f5b26e4424fc3af099482cba26f2fcdc6/drone_tasks/base/Design Definitions.csv:99\n",
      "/Users/albertorodriguez/desktop/safa/datasets/HuggingFace/extracted/30e2f908ec8ca05678e1daf3aab6d65f5b26e4424fc3af099482cba26f2fcdc6/drone_tasks/base/Requirements.csv:55\n",
      "/Users/albertorodriguez/desktop/safa/datasets/HuggingFace/extracted/30e2f908ec8ca05678e1daf3aab6d65f5b26e4424fc3af099482cba26f2fcdc6/drone_tasks/base/Requirements2Design Definitions.csv:58\n",
      "/Users/albertorodriguez/desktop/safa/datasets/HuggingFace/extracted/30e2f908ec8ca05678e1daf3aab6d65f5b26e4424fc3af099482cba26f2fcdc6/drone_tasks/base/Design Definitions2Code.csv:222\n",
      "Artifacts: 612 Traces: 280 Queries: 2\n",
      "No missing source artifacts. (0)\n",
      "No missing target artifacts. (0)\n"
     ]
    },
    {
     "name": "stderr",
     "output_type": "stream",
     "text": [
      "Cleaning artifacts...: 100%|█████████████| 612/612 [00:00<00:00, 1229364.97it/s]\n",
      "Generating negative links between Requirements -> Design Definitions: 100%|█| 55\n",
      "Generating negative links between Design Definitions -> Code: 100%|█| 99/99 [00:\n"
     ]
    },
    {
     "name": "stdout",
     "output_type": "stream",
     "text": [
      "[Code: 458],[Design Definitions: 99],[Requirements: 55]\n",
      "Trace dataset(+280, -(50507) = 50787)\n",
      "done.\n"
     ]
    }
   ],
   "source": [
    "def add_vsm_scores(dataset, model):\n",
    "    model.fit(dataset.artifact_df[\"content\"])\n",
    "    \n",
    "    scores = []\n",
    "    for _, row in dataset.trace_df.iterrows():\n",
    "        source = dataset.artifact_df.loc[row[\"source\"]][\"content\"]\n",
    "        target = dataset.artifact_df.loc[row[\"target\"]][\"content\"]\n",
    "        \n",
    "        source_embedding = model.transform([source]).toarray()[0]\n",
    "        target_embedding = model.transform([target]).toarray()[0]\n",
    "        scores.append(cosine_similarity(source_embedding, target_embedding))\n",
    "    dataset.trace_df[\"score\"] = scores\n",
    "        \n",
    "def undersample(df, n_needed):\n",
    "    df = df.sort_values(\"score\")\n",
    "    offset = int((len(df) - n_needed) / 2)\n",
    "    return df[offset:offset+n_needed]\n",
    "\n",
    "\n",
    "def to_csv_dataset(dataset, trace_df):\n",
    "    sources = []\n",
    "    targets = []\n",
    "    for _, row in trace_df.iterrows():\n",
    "        source_body = dataset.artifact_df.loc[row[\"source\"]][\"content\"]\n",
    "        target_body = dataset.artifact_df.loc[row[\"target\"]][\"content\"]\n",
    "        \n",
    "        sources.append(source_body)\n",
    "        targets.append(target_body)\n",
    "    df = pd.DataFrame()\n",
    "    df[\"source_id\"] = trace_df[\"source\"]\n",
    "    df[\"target_id\"] = trace_df[\"target\"]\n",
    "    df[\"source\"] = sources\n",
    "    df[\"target\"] = targets\n",
    "    df[\"label\"] = trace_df[\"label\"]\n",
    "    return df\n",
    "\n",
    "export_dir_path = os.path.expanduser(\"~/desktop/safa/datasets/openai\")\n",
    "\n",
    "dataset_names = [\"cm1\", \"mip\", \"traincontroller\", \"itrust\", \"cchit\", \"drone\"]\n",
    "\n",
    "\n",
    "train_dataframes = []\n",
    "test_dataframes = []\n",
    "\n",
    "for dataset_name in dataset_names:\n",
    "    print(dataset_name)\n",
    "    export_path = os.path.join(export_dir_path, dataset_name)\n",
    "    os.makedirs(export_path, exist_ok=True)\n",
    "    train_data_path = os.path.join(export_path, \"train.csv\")\n",
    "    test_data_path = os.path.join(export_path, \"test.csv\")\n",
    "    \n",
    "    if not os.path.exists(train_data_path) or not os.path.exists(test_data_path):\n",
    "        # Add VSM scores\n",
    "        tfidf_model = TfidfVectorizer()\n",
    "        project_reader = HubProjectReader(dataset_name)\n",
    "        trace_dataset_creator = TraceDatasetCreator(project_reader)\n",
    "        dataset = trace_dataset_creator.create()\n",
    "        add_vsm_scores(dataset, tfidf_model)\n",
    "\n",
    "        # Select easy / medium negative links\n",
    "        pos_df = dataset.trace_df[dataset.trace_df[\"label\"] == 1]\n",
    "        neg_df = dataset.trace_df[dataset.trace_df[\"label\"] == 0]\n",
    "        selected_df = pd.concat([pos_df, undersample(neg_df, len(pos_df))])\n",
    "        selected_df.head()\n",
    "\n",
    "        # Create Splits\n",
    "        csv_dataset = to_csv_dataset(dataset, selected_df)\n",
    "        train_df, test_df = train_test_split(csv_dataset, test_size=0.25, stratify=csv_dataset[\"label\"])\n",
    "\n",
    "        # Export \n",
    "        train_df.to_csv(train_data_path, index=False)\n",
    "        test_df.to_csv(test_data_path, index=False)\n",
    "    else:\n",
    "        train_df = pd.read_csv(train_data_path)\n",
    "        test_df = pd.read_csv(test_data_path)\n",
    "    \n",
    "    train_dataframes.append(train_df)\n",
    "    test_dataframes.append(test_df)\n",
    "    print(\"done.\")"
   ]
  },
  {
   "cell_type": "code",
   "execution_count": 7,
   "metadata": {},
   "outputs": [],
   "source": [
    "pd.concat(train_dataframes).sample(frac=1).to_csv(os.path.join(export_dir_path, \"train.csv\"), index=False)\n",
    "pd.concat(test_dataframes).sample(frac=1).to_csv(os.path.join(export_dir_path, \"test.csv\"), index=False)"
   ]
  },
  {
   "cell_type": "code",
   "execution_count": null,
   "metadata": {},
   "outputs": [],
   "source": []
  }
 ],
 "metadata": {
  "kernelspec": {
   "display_name": "Python 3 (ipykernel)",
   "language": "python",
   "name": "python3"
  },
  "language_info": {
   "codemirror_mode": {
    "name": "ipython",
    "version": 3
   },
   "file_extension": ".py",
   "mimetype": "text/x-python",
   "name": "python",
   "nbconvert_exporter": "python",
   "pygments_lexer": "ipython3",
   "version": "3.9.13"
  }
 },
 "nbformat": 4,
 "nbformat_minor": 1
}
