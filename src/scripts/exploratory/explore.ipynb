{
 "cells": [
  {
   "cell_type": "code",
   "execution_count": 1,
   "id": "a02363e0",
   "metadata": {},
   "outputs": [],
   "source": [
    "import pandas as pd\n",
    "import sys\n",
    "import os\n",
    "import json\n",
    "SRC_PATH = os.path.expanduser(\"~/projects/safa/tgen/src\")\n",
    "sys.path.append(SRC_PATH)"
   ]
  },
  {
   "cell_type": "code",
   "execution_count": 2,
   "id": "44aaa537",
   "metadata": {},
   "outputs": [],
   "source": [
    "from util.file_util import FileUtil"
   ]
  },
  {
   "cell_type": "code",
   "execution_count": 3,
   "id": "f21c80b7",
   "metadata": {},
   "outputs": [
    {
     "data": {
      "text/plain": [
       "{'experimental_vars': {},\n",
       " 'status': -1,\n",
       " 'traceback': 'Traceback (most recent call last):\\n  File \"/home/alberto/tgen/src/jobs/abstract_job.py\", line 45, in run\\n    run_result = self._run()\\n  File \"/home/alberto/tgen/src/jobs/predict_job.py\", line 16, in _run\\n    trace_prediction_output = self.get_trainer().perform_prediction()\\n  File \"/home/alberto/tgen/src/train/base_trainer.py\", line 66, in perform_prediction\\n    output = self.predict(self.eval_dataset)\\n  File \"/opt/conda/envs/tgen/lib/python3.9/site-packages/transformers/trainer.py\", line 2885, in predict\\n    output = eval_loop(\\n  File \"/opt/conda/envs/tgen/lib/python3.9/site-packages/transformers/trainer.py\", line 2989, in evaluation_loop\\n    loss, logits, labels = self.prediction_step(model, inputs, prediction_loss_only, ignore_keys=ignore_keys)\\n  File \"/opt/conda/envs/tgen/lib/python3.9/site-packages/transformers/trainer.py\", line 3242, in prediction_step\\n    loss, outputs = self.compute_loss(model, inputs, return_outputs=True)\\n  File \"/opt/conda/envs/tgen/lib/python3.9/site-packages/transformers/trainer.py\", line 2555, in compute_loss\\n    outputs = model(**inputs)\\n  File \"/opt/conda/envs/tgen/lib/python3.9/site-packages/torch/nn/modules/module.py\", line 1110, in _call_impl\\n    return forward_call(*input, **kwargs)\\n  File \"/opt/conda/envs/tgen/lib/python3.9/site-packages/torch/nn/parallel/data_parallel.py\", line 154, in forward\\n    raise RuntimeError(\"module must have its parameters and buffers \"\\nRuntimeError: module must have its parameters and buffers on device cuda:0 (device_ids[0]) but found one of them on device: cpu\\n',\n",
       " 'exception': 'module must have its parameters and buffers on device cuda:0 (device_ids[0]) but found one of them on device: cpu'}"
      ]
     },
     "execution_count": 3,
     "metadata": {},
     "output_type": "execute_result"
    }
   ],
   "source": [
    "FileUtil.read_json_file(\"output.json\")"
   ]
  },
  {
   "cell_type": "code",
   "execution_count": null,
   "id": "87636d1b",
   "metadata": {},
   "outputs": [],
   "source": []
  }
 ],
 "metadata": {
  "kernelspec": {
   "display_name": "Python 3 (ipykernel)",
   "language": "python",
   "name": "python3"
  },
  "language_info": {
   "codemirror_mode": {
    "name": "ipython",
    "version": 3
   },
   "file_extension": ".py",
   "mimetype": "text/x-python",
   "name": "python",
   "nbconvert_exporter": "python",
   "pygments_lexer": "ipython3",
   "version": "3.9.13"
  }
 },
 "nbformat": 4,
 "nbformat_minor": 5
}
